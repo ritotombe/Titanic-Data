{
 "cells": [
  {
   "cell_type": "markdown",
   "metadata": {},
   "source": [
    "# Investigate Data Sets\n"
   ]
  },
  {
   "cell_type": "markdown",
   "metadata": {},
   "source": [
    "The dataset that is being analysed in this project is the Titanic Data that was presented by Udacity sourced in Kaggle (https://www.kaggle.com/c/titanic/data).\n",
    "In this project, there are several questions to be answered:\n",
    "1. What are likely the factors of the survived passengers? (What age or sex? What class? Family brought? Cabin/Deck?)\n",
    "2. What is the weathiest area at the time? (class by embarked)\n",
    "3. How old are typically people that afford a first class at the time? (Age by class)"
   ]
  },
  {
   "cell_type": "code",
   "execution_count": 1,
   "metadata": {},
   "outputs": [
    {
     "data": {
      "text/html": [
       "<div>\n",
       "<style>\n",
       "    .dataframe thead tr:only-child th {\n",
       "        text-align: right;\n",
       "    }\n",
       "\n",
       "    .dataframe thead th {\n",
       "        text-align: left;\n",
       "    }\n",
       "\n",
       "    .dataframe tbody tr th {\n",
       "        vertical-align: top;\n",
       "    }\n",
       "</style>\n",
       "<table border=\"1\" class=\"dataframe\">\n",
       "  <thead>\n",
       "    <tr style=\"text-align: right;\">\n",
       "      <th></th>\n",
       "      <th>PassengerId</th>\n",
       "      <th>Survived</th>\n",
       "      <th>Pclass</th>\n",
       "      <th>Name</th>\n",
       "      <th>Sex</th>\n",
       "      <th>Age</th>\n",
       "      <th>SibSp</th>\n",
       "      <th>Parch</th>\n",
       "      <th>Ticket</th>\n",
       "      <th>Fare</th>\n",
       "      <th>Cabin</th>\n",
       "      <th>Embarked</th>\n",
       "    </tr>\n",
       "  </thead>\n",
       "  <tbody>\n",
       "    <tr>\n",
       "      <th>0</th>\n",
       "      <td>1</td>\n",
       "      <td>0</td>\n",
       "      <td>3</td>\n",
       "      <td>Braund, Mr. Owen Harris</td>\n",
       "      <td>male</td>\n",
       "      <td>22.0</td>\n",
       "      <td>1</td>\n",
       "      <td>0</td>\n",
       "      <td>A/5 21171</td>\n",
       "      <td>7.2500</td>\n",
       "      <td>NaN</td>\n",
       "      <td>S</td>\n",
       "    </tr>\n",
       "    <tr>\n",
       "      <th>1</th>\n",
       "      <td>2</td>\n",
       "      <td>1</td>\n",
       "      <td>1</td>\n",
       "      <td>Cumings, Mrs. John Bradley (Florence Briggs Th...</td>\n",
       "      <td>female</td>\n",
       "      <td>38.0</td>\n",
       "      <td>1</td>\n",
       "      <td>0</td>\n",
       "      <td>PC 17599</td>\n",
       "      <td>71.2833</td>\n",
       "      <td>C85</td>\n",
       "      <td>C</td>\n",
       "    </tr>\n",
       "    <tr>\n",
       "      <th>2</th>\n",
       "      <td>3</td>\n",
       "      <td>1</td>\n",
       "      <td>3</td>\n",
       "      <td>Heikkinen, Miss. Laina</td>\n",
       "      <td>female</td>\n",
       "      <td>26.0</td>\n",
       "      <td>0</td>\n",
       "      <td>0</td>\n",
       "      <td>STON/O2. 3101282</td>\n",
       "      <td>7.9250</td>\n",
       "      <td>NaN</td>\n",
       "      <td>S</td>\n",
       "    </tr>\n",
       "    <tr>\n",
       "      <th>3</th>\n",
       "      <td>4</td>\n",
       "      <td>1</td>\n",
       "      <td>1</td>\n",
       "      <td>Futrelle, Mrs. Jacques Heath (Lily May Peel)</td>\n",
       "      <td>female</td>\n",
       "      <td>35.0</td>\n",
       "      <td>1</td>\n",
       "      <td>0</td>\n",
       "      <td>113803</td>\n",
       "      <td>53.1000</td>\n",
       "      <td>C123</td>\n",
       "      <td>S</td>\n",
       "    </tr>\n",
       "    <tr>\n",
       "      <th>4</th>\n",
       "      <td>5</td>\n",
       "      <td>0</td>\n",
       "      <td>3</td>\n",
       "      <td>Allen, Mr. William Henry</td>\n",
       "      <td>male</td>\n",
       "      <td>35.0</td>\n",
       "      <td>0</td>\n",
       "      <td>0</td>\n",
       "      <td>373450</td>\n",
       "      <td>8.0500</td>\n",
       "      <td>NaN</td>\n",
       "      <td>S</td>\n",
       "    </tr>\n",
       "  </tbody>\n",
       "</table>\n",
       "</div>"
      ],
      "text/plain": [
       "   PassengerId  Survived  Pclass  \\\n",
       "0            1         0       3   \n",
       "1            2         1       1   \n",
       "2            3         1       3   \n",
       "3            4         1       1   \n",
       "4            5         0       3   \n",
       "\n",
       "                                                Name     Sex   Age  SibSp  \\\n",
       "0                            Braund, Mr. Owen Harris    male  22.0      1   \n",
       "1  Cumings, Mrs. John Bradley (Florence Briggs Th...  female  38.0      1   \n",
       "2                             Heikkinen, Miss. Laina  female  26.0      0   \n",
       "3       Futrelle, Mrs. Jacques Heath (Lily May Peel)  female  35.0      1   \n",
       "4                           Allen, Mr. William Henry    male  35.0      0   \n",
       "\n",
       "   Parch            Ticket     Fare Cabin Embarked  \n",
       "0      0         A/5 21171   7.2500   NaN        S  \n",
       "1      0          PC 17599  71.2833   C85        C  \n",
       "2      0  STON/O2. 3101282   7.9250   NaN        S  \n",
       "3      0            113803  53.1000  C123        S  \n",
       "4      0            373450   8.0500   NaN        S  "
      ]
     },
     "execution_count": 1,
     "metadata": {},
     "output_type": "execute_result"
    }
   ],
   "source": [
    "import matplotlib.pyplot as plt\n",
    "import pandas as pd\n",
    "import numpy as np\n",
    "import seaborn as sns\n",
    "import matplotlib.patches as mpatches\n",
    "%matplotlib inline\n",
    "\n",
    "titanic_df = pd.read_csv('data/titanic-data.csv')\n",
    "\n",
    "# to undestand the data, we have to see the headers and repective values.\n",
    "titanic_df.head()"
   ]
  },
  {
   "cell_type": "markdown",
   "metadata": {},
   "source": [
    "## Data Cleaning"
   ]
  },
  {
   "cell_type": "markdown",
   "metadata": {},
   "source": [
    "### Data Type"
   ]
  },
  {
   "cell_type": "markdown",
   "metadata": {},
   "source": [
    "Make sure all numerical attributes have numeric values"
   ]
  },
  {
   "cell_type": "code",
   "execution_count": 2,
   "metadata": {
    "collapsed": true
   },
   "outputs": [],
   "source": [
    "def parse_maybe_int(data):\n",
    "    if data == \"\":\n",
    "        return None\n",
    "    else:\n",
    "        return int(data)\n",
    "    \n",
    "def parse_maybe_float(data):\n",
    "    if data == \"\":\n",
    "        return None\n",
    "    else:\n",
    "        return float(data)\n",
    "    \n",
    "def parse_embark_name(data):\n",
    "    if data == \"C\":\n",
    "        return \"Cherbourg\"\n",
    "    elif data == \"Q\":\n",
    "        return \"Queenstown\"\n",
    "    elif data == \"S\":\n",
    "        return \"Southampton\"\n",
    "    else:\n",
    "        return None\n",
    "    \n",
    "titanic_df.Age = titanic_df.Age.apply(parse_maybe_float)\n",
    "titanic_df.Fare = titanic_df.Fare.apply(parse_maybe_float)\n",
    "titanic_df.Parch = titanic_df.Parch.apply(parse_maybe_int)\n",
    "titanic_df.SibSp = titanic_df.SibSp.apply(parse_maybe_int)\n",
    "titanic_df.Embarked = titanic_df.Embarked.apply(parse_embark_name)"
   ]
  },
  {
   "cell_type": "markdown",
   "metadata": {},
   "source": [
    "### Null Data"
   ]
  },
  {
   "cell_type": "code",
   "execution_count": 3,
   "metadata": {},
   "outputs": [
    {
     "data": {
      "text/html": [
       "<div>\n",
       "<style>\n",
       "    .dataframe thead tr:only-child th {\n",
       "        text-align: right;\n",
       "    }\n",
       "\n",
       "    .dataframe thead th {\n",
       "        text-align: left;\n",
       "    }\n",
       "\n",
       "    .dataframe tbody tr th {\n",
       "        vertical-align: top;\n",
       "    }\n",
       "</style>\n",
       "<table border=\"1\" class=\"dataframe\">\n",
       "  <thead>\n",
       "    <tr style=\"text-align: right;\">\n",
       "      <th></th>\n",
       "      <th>Age</th>\n",
       "      <th>Fare</th>\n",
       "      <th>Parch</th>\n",
       "      <th>SibSp</th>\n",
       "      <th>Pclass</th>\n",
       "      <th>Survived</th>\n",
       "    </tr>\n",
       "  </thead>\n",
       "  <tbody>\n",
       "    <tr>\n",
       "      <th>count</th>\n",
       "      <td>714.000000</td>\n",
       "      <td>891.000000</td>\n",
       "      <td>891.000000</td>\n",
       "      <td>891.000000</td>\n",
       "      <td>891.000000</td>\n",
       "      <td>891.000000</td>\n",
       "    </tr>\n",
       "    <tr>\n",
       "      <th>mean</th>\n",
       "      <td>29.699118</td>\n",
       "      <td>32.204208</td>\n",
       "      <td>0.381594</td>\n",
       "      <td>0.523008</td>\n",
       "      <td>2.308642</td>\n",
       "      <td>0.383838</td>\n",
       "    </tr>\n",
       "    <tr>\n",
       "      <th>std</th>\n",
       "      <td>14.526497</td>\n",
       "      <td>49.693429</td>\n",
       "      <td>0.806057</td>\n",
       "      <td>1.102743</td>\n",
       "      <td>0.836071</td>\n",
       "      <td>0.486592</td>\n",
       "    </tr>\n",
       "    <tr>\n",
       "      <th>min</th>\n",
       "      <td>0.420000</td>\n",
       "      <td>0.000000</td>\n",
       "      <td>0.000000</td>\n",
       "      <td>0.000000</td>\n",
       "      <td>1.000000</td>\n",
       "      <td>0.000000</td>\n",
       "    </tr>\n",
       "    <tr>\n",
       "      <th>25%</th>\n",
       "      <td>20.125000</td>\n",
       "      <td>7.910400</td>\n",
       "      <td>0.000000</td>\n",
       "      <td>0.000000</td>\n",
       "      <td>2.000000</td>\n",
       "      <td>0.000000</td>\n",
       "    </tr>\n",
       "    <tr>\n",
       "      <th>50%</th>\n",
       "      <td>28.000000</td>\n",
       "      <td>14.454200</td>\n",
       "      <td>0.000000</td>\n",
       "      <td>0.000000</td>\n",
       "      <td>3.000000</td>\n",
       "      <td>0.000000</td>\n",
       "    </tr>\n",
       "    <tr>\n",
       "      <th>75%</th>\n",
       "      <td>38.000000</td>\n",
       "      <td>31.000000</td>\n",
       "      <td>0.000000</td>\n",
       "      <td>1.000000</td>\n",
       "      <td>3.000000</td>\n",
       "      <td>1.000000</td>\n",
       "    </tr>\n",
       "    <tr>\n",
       "      <th>max</th>\n",
       "      <td>80.000000</td>\n",
       "      <td>512.329200</td>\n",
       "      <td>6.000000</td>\n",
       "      <td>8.000000</td>\n",
       "      <td>3.000000</td>\n",
       "      <td>1.000000</td>\n",
       "    </tr>\n",
       "  </tbody>\n",
       "</table>\n",
       "</div>"
      ],
      "text/plain": [
       "              Age        Fare       Parch       SibSp      Pclass    Survived\n",
       "count  714.000000  891.000000  891.000000  891.000000  891.000000  891.000000\n",
       "mean    29.699118   32.204208    0.381594    0.523008    2.308642    0.383838\n",
       "std     14.526497   49.693429    0.806057    1.102743    0.836071    0.486592\n",
       "min      0.420000    0.000000    0.000000    0.000000    1.000000    0.000000\n",
       "25%     20.125000    7.910400    0.000000    0.000000    2.000000    0.000000\n",
       "50%     28.000000   14.454200    0.000000    0.000000    3.000000    0.000000\n",
       "75%     38.000000   31.000000    0.000000    1.000000    3.000000    1.000000\n",
       "max     80.000000  512.329200    6.000000    8.000000    3.000000    1.000000"
      ]
     },
     "execution_count": 3,
     "metadata": {},
     "output_type": "execute_result"
    }
   ],
   "source": [
    "#Numerical data description\n",
    "titanic_df[['Age','Fare','Parch','SibSp', 'Pclass', 'Survived']].describe()"
   ]
  },
  {
   "cell_type": "markdown",
   "metadata": {},
   "source": [
    "As seen in the data, there are some missing data such as in Age, this missing data can bend the statistic results; Thus, it is important to find pattern of these missing data. Below are the plots of all columns respectively to the missing Age data."
   ]
  },
  {
   "cell_type": "code",
   "execution_count": 4,
   "metadata": {},
   "outputs": [
    {
     "data": {
      "image/png": "[encoded data removed]",
      "text/plain": [
       "<matplotlib.figure.Figure at 0x1101709e8>"
      ]
     },
     "metadata": {},
     "output_type": "display_data"
    }
   ],
   "source": [
    "#data of null Age\n",
    "f, ((ax1, ax2, ax3), (ax4, ax5,ax6), (ax7,ax8,ax9)) = plt.subplots(3,3,figsize=(15,10))\n",
    "\n",
    "f.delaxes(ax8)\n",
    "f.delaxes(ax9)\n",
    "\n",
    "null_age = titanic_df[titanic_df['Age'].isnull()]\n",
    "\n",
    "titanic_df['Fare'].hist(ax=ax1, label='y', color='green', bins=20)\n",
    "titanic_df[titanic_df['Age'].isnull()]['Fare'].hist(ax=ax1,label='x', color='blue',bins=20)\n",
    "ax1.set_title('Fare Comparison All Age vs Null Age (Fig 1)')\n",
    "ax1.set_ylabel('Occurences')\n",
    "ax1.set_xlabel('Fare')\n",
    "ax1.legend(['All Data','Null Age Only'])\n",
    "\n",
    "titanic_df['Parch'].hist(ax=ax2, color='green')\n",
    "titanic_df[titanic_df['Age'].isnull()]['Parch'].hist(ax=ax2, color='blue')\n",
    "ax2.set_title('Parch Comparison All Age vs Null Age (Fig 2)')\n",
    "ax2.set_ylabel('Occurences')\n",
    "ax2.set_xlabel('Parch')\n",
    "ax2.legend(['All Data','Null Age Only'])\n",
    "           \n",
    "titanic_df['Pclass'].value_counts().plot(kind='bar', ax=ax3, color='green')\n",
    "titanic_df[titanic_df['Age'].isnull()]['Pclass'].value_counts().plot(kind='bar', ax=ax3,  color='blue')\n",
    "ax3.set_title('Class Comparison All Age vs Null Age (Fig 3)')\n",
    "ax3.set_ylabel('Occurences')\n",
    "ax3.set_xlabel('Class')\n",
    "ax3.legend(['All Data','Null Age Only'])\n",
    "\n",
    "titanic_df['SibSp'].hist(ax=ax4, color='green')\n",
    "titanic_df[titanic_df['Age'].isnull()]['SibSp'].hist(ax=ax4,  color='blue')\n",
    "ax4.set_title('Sibling or Spouse Comparison All Age vs Null Age (Fig 4)')\n",
    "ax4.set_ylabel('Occurences')\n",
    "ax4.set_xlabel('Sibling or Spouse')\n",
    "ax4.legend(['All Data','Null Age Only'])\n",
    "\n",
    "titanic_df['Survived'].value_counts().plot(kind='bar', ax=ax5, color='green')\n",
    "titanic_df[titanic_df['Age'].isnull()]['Survived'].value_counts().plot(kind='bar', ax=ax5,   color='blue')\n",
    "ax5.set_title('Survived Comparison All Age vs Null Age (Fig 5)')\n",
    "ax5.set_ylabel('Occurences')\n",
    "ax5.set_xlabel('Survived')\n",
    "ax5.legend(['All Data','Null Age Only'])\n",
    "\n",
    "titanic_df['Embarked'].value_counts().plot(kind='bar', ax=ax6, color='green')\n",
    "titanic_df[titanic_df['Age'].isnull()]['Embarked'].value_counts().plot(kind='bar', ax=ax6,  color='blue')\n",
    "ax6.set_title('Embarked (Origin) Comparison All Age vs Null Age (Fig 6)')\n",
    "ax6.set_ylabel('Occurences')\n",
    "ax6.set_xlabel('Embarked (Origin)')\n",
    "ax6.legend(['All Data','Null Age Only'])\n",
    "\n",
    "titanic_df['Sex'].value_counts().plot(kind='bar', ax=ax7, color='green')\n",
    "titanic_df[titanic_df['Age'].isnull()]['Sex'].value_counts().plot(kind='bar', ax=ax7,  color='blue')\n",
    "ax7.set_title('Sex Comparison All Age vs Null Age (Fig 7)')\n",
    "ax7.set_ylabel('Occurences')\n",
    "ax7.set_xlabel('Sex')\n",
    "ax7.legend(['All Data','Null Age Only'])\n",
    "\n",
    "plt.tight_layout()\n",
    "plt.show()\n"
   ]
  },
  {
   "cell_type": "markdown",
   "metadata": {},
   "source": [
    "As shown above, it seems there is significant less data proportion in class 2 and 1 and higher data proportion in class 3 in Fig 3. In a same fashion, Fig 6 also shows that for \"Cherbourg\" it is around 50% that have null Age data. So, if the data ignored/deleted, **it will cause imbalance in classes population distribution**. Thus, I intend to fill these data using the mean of the age (Source: https://gallery.cortanaintelligence.com/Experiment/Methods-for-handling-missing-values-1)."
   ]
  },
  {
   "cell_type": "code",
   "execution_count": 5,
   "metadata": {},
   "outputs": [],
   "source": [
    "titanic_df.loc[titanic_df['Age'].isnull(), 'Age'] = titanic_df['Age'].mean()"
   ]
  },
  {
   "cell_type": "code",
   "execution_count": 6,
   "metadata": {},
   "outputs": [
    {
     "data": {
      "text/html": [
       "<div>\n",
       "<style>\n",
       "    .dataframe thead tr:only-child th {\n",
       "        text-align: right;\n",
       "    }\n",
       "\n",
       "    .dataframe thead th {\n",
       "        text-align: left;\n",
       "    }\n",
       "\n",
       "    .dataframe tbody tr th {\n",
       "        vertical-align: top;\n",
       "    }\n",
       "</style>\n",
       "<table border=\"1\" class=\"dataframe\">\n",
       "  <thead>\n",
       "    <tr style=\"text-align: right;\">\n",
       "      <th></th>\n",
       "      <th>Sex</th>\n",
       "      <th>Embarked</th>\n",
       "    </tr>\n",
       "  </thead>\n",
       "  <tbody>\n",
       "    <tr>\n",
       "      <th>count</th>\n",
       "      <td>891</td>\n",
       "      <td>889</td>\n",
       "    </tr>\n",
       "    <tr>\n",
       "      <th>unique</th>\n",
       "      <td>2</td>\n",
       "      <td>3</td>\n",
       "    </tr>\n",
       "    <tr>\n",
       "      <th>top</th>\n",
       "      <td>male</td>\n",
       "      <td>Southampton</td>\n",
       "    </tr>\n",
       "    <tr>\n",
       "      <th>freq</th>\n",
       "      <td>577</td>\n",
       "      <td>644</td>\n",
       "    </tr>\n",
       "  </tbody>\n",
       "</table>\n",
       "</div>"
      ],
      "text/plain": [
       "         Sex     Embarked\n",
       "count    891          889\n",
       "unique     2            3\n",
       "top     male  Southampton\n",
       "freq     577          644"
      ]
     },
     "execution_count": 6,
     "metadata": {},
     "output_type": "execute_result"
    }
   ],
   "source": [
    "# Categorical data description\n",
    "titanic_df[['Sex','Embarked']].describe()"
   ]
  },
  {
   "cell_type": "markdown",
   "metadata": {},
   "source": [
    "It seems Embarked data has null values, so, lets check it."
   ]
  },
  {
   "cell_type": "code",
   "execution_count": 7,
   "metadata": {
    "scrolled": true
   },
   "outputs": [
    {
     "data": {
      "text/html": [
       "<div>\n",
       "<style>\n",
       "    .dataframe thead tr:only-child th {\n",
       "        text-align: right;\n",
       "    }\n",
       "\n",
       "    .dataframe thead th {\n",
       "        text-align: left;\n",
       "    }\n",
       "\n",
       "    .dataframe tbody tr th {\n",
       "        vertical-align: top;\n",
       "    }\n",
       "</style>\n",
       "<table border=\"1\" class=\"dataframe\">\n",
       "  <thead>\n",
       "    <tr style=\"text-align: right;\">\n",
       "      <th></th>\n",
       "      <th>PassengerId</th>\n",
       "      <th>Survived</th>\n",
       "      <th>Pclass</th>\n",
       "      <th>Name</th>\n",
       "      <th>Sex</th>\n",
       "      <th>Age</th>\n",
       "      <th>SibSp</th>\n",
       "      <th>Parch</th>\n",
       "      <th>Ticket</th>\n",
       "      <th>Fare</th>\n",
       "      <th>Cabin</th>\n",
       "      <th>Embarked</th>\n",
       "    </tr>\n",
       "  </thead>\n",
       "  <tbody>\n",
       "    <tr>\n",
       "      <th>61</th>\n",
       "      <td>62</td>\n",
       "      <td>1</td>\n",
       "      <td>1</td>\n",
       "      <td>Icard, Miss. Amelie</td>\n",
       "      <td>female</td>\n",
       "      <td>38.0</td>\n",
       "      <td>0</td>\n",
       "      <td>0</td>\n",
       "      <td>113572</td>\n",
       "      <td>80.0</td>\n",
       "      <td>B28</td>\n",
       "      <td>None</td>\n",
       "    </tr>\n",
       "    <tr>\n",
       "      <th>829</th>\n",
       "      <td>830</td>\n",
       "      <td>1</td>\n",
       "      <td>1</td>\n",
       "      <td>Stone, Mrs. George Nelson (Martha Evelyn)</td>\n",
       "      <td>female</td>\n",
       "      <td>62.0</td>\n",
       "      <td>0</td>\n",
       "      <td>0</td>\n",
       "      <td>113572</td>\n",
       "      <td>80.0</td>\n",
       "      <td>B28</td>\n",
       "      <td>None</td>\n",
       "    </tr>\n",
       "  </tbody>\n",
       "</table>\n",
       "</div>"
      ],
      "text/plain": [
       "     PassengerId  Survived  Pclass                                       Name  \\\n",
       "61            62         1       1                        Icard, Miss. Amelie   \n",
       "829          830         1       1  Stone, Mrs. George Nelson (Martha Evelyn)   \n",
       "\n",
       "        Sex   Age  SibSp  Parch  Ticket  Fare Cabin Embarked  \n",
       "61   female  38.0      0      0  113572  80.0   B28     None  \n",
       "829  female  62.0      0      0  113572  80.0   B28     None  "
      ]
     },
     "execution_count": 7,
     "metadata": {},
     "output_type": "execute_result"
    }
   ],
   "source": [
    "titanic_df[titanic_df['Embarked'].isnull()]    "
   ]
  },
  {
   "cell_type": "markdown",
   "metadata": {},
   "source": [
    "Based on here https://www.geni.com/people/Am%C3%A9lie-Rose-Icard/6000000015829615380,\n",
    "passengerId 62 was a maid to passenger 830 and departed from Southhampton. **Thus, their data should be completed**"
   ]
  },
  {
   "cell_type": "code",
   "execution_count": 8,
   "metadata": {
    "collapsed": true
   },
   "outputs": [],
   "source": [
    "titanic_df.loc[61,'Embarked']  = 'Southampton'\n",
    "titanic_df.loc[829,'Embarked']  = 'Southampton'"
   ]
  },
  {
   "cell_type": "code",
   "execution_count": 9,
   "metadata": {
    "scrolled": true
   },
   "outputs": [
    {
     "data": {
      "text/html": [
       "<div>\n",
       "<style>\n",
       "    .dataframe thead tr:only-child th {\n",
       "        text-align: right;\n",
       "    }\n",
       "\n",
       "    .dataframe thead th {\n",
       "        text-align: left;\n",
       "    }\n",
       "\n",
       "    .dataframe tbody tr th {\n",
       "        vertical-align: top;\n",
       "    }\n",
       "</style>\n",
       "<table border=\"1\" class=\"dataframe\">\n",
       "  <thead>\n",
       "    <tr style=\"text-align: right;\">\n",
       "      <th></th>\n",
       "      <th>Sex</th>\n",
       "      <th>Embarked</th>\n",
       "    </tr>\n",
       "  </thead>\n",
       "  <tbody>\n",
       "    <tr>\n",
       "      <th>count</th>\n",
       "      <td>891</td>\n",
       "      <td>891</td>\n",
       "    </tr>\n",
       "    <tr>\n",
       "      <th>unique</th>\n",
       "      <td>2</td>\n",
       "      <td>3</td>\n",
       "    </tr>\n",
       "    <tr>\n",
       "      <th>top</th>\n",
       "      <td>male</td>\n",
       "      <td>Southampton</td>\n",
       "    </tr>\n",
       "    <tr>\n",
       "      <th>freq</th>\n",
       "      <td>577</td>\n",
       "      <td>646</td>\n",
       "    </tr>\n",
       "  </tbody>\n",
       "</table>\n",
       "</div>"
      ],
      "text/plain": [
       "         Sex     Embarked\n",
       "count    891          891\n",
       "unique     2            3\n",
       "top     male  Southampton\n",
       "freq     577          646"
      ]
     },
     "execution_count": 9,
     "metadata": {},
     "output_type": "execute_result"
    }
   ],
   "source": [
    "titanic_df[['Sex','Embarked']].describe()"
   ]
  },
  {
   "cell_type": "markdown",
   "metadata": {},
   "source": [
    "### Outlier"
   ]
  },
  {
   "cell_type": "code",
   "execution_count": 10,
   "metadata": {
    "collapsed": true
   },
   "outputs": [],
   "source": [
    "def outlier_by_class(label):\n",
    "    IQR =  titanic_df.groupby('Pclass').quantile(0.75)[label]-titanic_df.groupby('Pclass').quantile(0.25)[label]\n",
    "    outlier_max = titanic_df.groupby('Pclass').quantile(0.75)[label]+1.5*IQR\n",
    "    outlier_min = titanic_df.groupby('Pclass').quantile(0.25)[label]-1.5*IQR\n",
    "    return outlier_max, outlier_min\n",
    "\n",
    "def outlier(label):\n",
    "    IQR =  titanic_df[label].quantile(0.75)-titanic_df[label].quantile(0.25)\n",
    "    outlier_max = titanic_df[label].quantile(0.75)+1.5*IQR\n",
    "    outlier_min = titanic_df[label].quantile(0.25)-1.5*IQR\n",
    "    return outlier_max, outlier_min"
   ]
  },
  {
   "cell_type": "markdown",
   "metadata": {},
   "source": [
    "#### Fare"
   ]
  },
  {
   "cell_type": "code",
   "execution_count": 11,
   "metadata": {},
   "outputs": [
    {
     "name": "stdout",
     "output_type": "stream",
     "text": [
      "65.6344\n",
      "-26.724\n",
      "Pclass\n",
      "1    187.364075\n",
      "2     45.500000\n",
      "3     27.125000\n",
      "Name: Fare, dtype: float64\n",
      "Pclass\n",
      "1   -62.940125\n",
      "2    -6.500000\n",
      "3    -3.875000\n",
      "Name: Fare, dtype: float64\n"
     ]
    }
   ],
   "source": [
    "fare_outlier_max, fare_outlier_min = outlier('Fare')\n",
    "\n",
    "print(fare_outlier_max)\n",
    "print(fare_outlier_min)\n",
    "\n",
    "fare_outlier_max_c, fare_outlier_min_c = outlier_by_class('Fare')\n",
    "\n",
    "print(fare_outlier_max_c)\n",
    "print(fare_outlier_min_c)"
   ]
  },
  {
   "cell_type": "markdown",
   "metadata": {},
   "source": [
    "#### Age"
   ]
  },
  {
   "cell_type": "code",
   "execution_count": 12,
   "metadata": {},
   "outputs": [
    {
     "name": "stdout",
     "output_type": "stream",
     "text": [
      "54.5\n",
      "2.5\n",
      "Pclass\n",
      "1    74.625000\n",
      "2    55.500000\n",
      "3    43.872794\n",
      "Name: Age, dtype: float64\n",
      "Pclass\n",
      "1    1.625000\n",
      "2    3.500000\n",
      "3    6.076324\n",
      "Name: Age, dtype: float64\n"
     ]
    }
   ],
   "source": [
    "age_outlier_max, age_outlier_min = outlier('Age')\n",
    "\n",
    "print(age_outlier_max)\n",
    "print(age_outlier_min)\n",
    "\n",
    "age_outlier_max_c, age_outlier_min_c = outlier_by_class('Age')\n",
    "\n",
    "print(age_outlier_max_c)\n",
    "print(age_outlier_min_c)"
   ]
  },
  {
   "cell_type": "markdown",
   "metadata": {},
   "source": [
    "Based on the describe data in the previous section, there are outlier in Age Column and in Fare column. Let's check who are these people.\n",
    "\n",
    "##### Age & Fare Outliers"
   ]
  },
  {
   "cell_type": "code",
   "execution_count": 13,
   "metadata": {},
   "outputs": [
    {
     "data": {
      "text/html": [
       "<div>\n",
       "<style>\n",
       "    .dataframe thead tr:only-child th {\n",
       "        text-align: right;\n",
       "    }\n",
       "\n",
       "    .dataframe thead th {\n",
       "        text-align: left;\n",
       "    }\n",
       "\n",
       "    .dataframe tbody tr th {\n",
       "        vertical-align: top;\n",
       "    }\n",
       "</style>\n",
       "<table border=\"1\" class=\"dataframe\">\n",
       "  <thead>\n",
       "    <tr style=\"text-align: right;\">\n",
       "      <th></th>\n",
       "      <th>PassengerId</th>\n",
       "      <th>Survived</th>\n",
       "      <th>Pclass</th>\n",
       "      <th>Name</th>\n",
       "      <th>Sex</th>\n",
       "      <th>Age</th>\n",
       "      <th>SibSp</th>\n",
       "      <th>Parch</th>\n",
       "      <th>Ticket</th>\n",
       "      <th>Fare</th>\n",
       "      <th>Cabin</th>\n",
       "      <th>Embarked</th>\n",
       "    </tr>\n",
       "  </thead>\n",
       "  <tbody>\n",
       "    <tr>\n",
       "      <th>630</th>\n",
       "      <td>631</td>\n",
       "      <td>1</td>\n",
       "      <td>1</td>\n",
       "      <td>Barkworth, Mr. Algernon Henry Wilson</td>\n",
       "      <td>male</td>\n",
       "      <td>80.0</td>\n",
       "      <td>0</td>\n",
       "      <td>0</td>\n",
       "      <td>27042</td>\n",
       "      <td>30.0</td>\n",
       "      <td>A23</td>\n",
       "      <td>Southampton</td>\n",
       "    </tr>\n",
       "  </tbody>\n",
       "</table>\n",
       "</div>"
      ],
      "text/plain": [
       "     PassengerId  Survived  Pclass                                  Name  \\\n",
       "630          631         1       1  Barkworth, Mr. Algernon Henry Wilson   \n",
       "\n",
       "      Sex   Age  SibSp  Parch Ticket  Fare Cabin     Embarked  \n",
       "630  male  80.0      0      0  27042  30.0   A23  Southampton  "
      ]
     },
     "execution_count": 13,
     "metadata": {},
     "output_type": "execute_result"
    }
   ],
   "source": [
    "titanic_df[(titanic_df['Age']>age_outlier_max_c[1]) & (titanic_df['Pclass']==1)]"
   ]
  },
  {
   "cell_type": "code",
   "execution_count": 14,
   "metadata": {},
   "outputs": [
    {
     "data": {
      "text/html": [
       "<div>\n",
       "<style>\n",
       "    .dataframe thead tr:only-child th {\n",
       "        text-align: right;\n",
       "    }\n",
       "\n",
       "    .dataframe thead th {\n",
       "        text-align: left;\n",
       "    }\n",
       "\n",
       "    .dataframe tbody tr th {\n",
       "        vertical-align: top;\n",
       "    }\n",
       "</style>\n",
       "<table border=\"1\" class=\"dataframe\">\n",
       "  <thead>\n",
       "    <tr style=\"text-align: right;\">\n",
       "      <th></th>\n",
       "      <th>PassengerId</th>\n",
       "      <th>Survived</th>\n",
       "      <th>Pclass</th>\n",
       "      <th>Name</th>\n",
       "      <th>Sex</th>\n",
       "      <th>Age</th>\n",
       "      <th>SibSp</th>\n",
       "      <th>Parch</th>\n",
       "      <th>Ticket</th>\n",
       "      <th>Fare</th>\n",
       "      <th>Cabin</th>\n",
       "      <th>Embarked</th>\n",
       "    </tr>\n",
       "  </thead>\n",
       "  <tbody>\n",
       "    <tr>\n",
       "      <th>27</th>\n",
       "      <td>28</td>\n",
       "      <td>0</td>\n",
       "      <td>1</td>\n",
       "      <td>Fortune, Mr. Charles Alexander</td>\n",
       "      <td>male</td>\n",
       "      <td>19.000000</td>\n",
       "      <td>3</td>\n",
       "      <td>2</td>\n",
       "      <td>19950</td>\n",
       "      <td>263.0000</td>\n",
       "      <td>C23 C25 C27</td>\n",
       "      <td>Southampton</td>\n",
       "    </tr>\n",
       "    <tr>\n",
       "      <th>88</th>\n",
       "      <td>89</td>\n",
       "      <td>1</td>\n",
       "      <td>1</td>\n",
       "      <td>Fortune, Miss. Mabel Helen</td>\n",
       "      <td>female</td>\n",
       "      <td>23.000000</td>\n",
       "      <td>3</td>\n",
       "      <td>2</td>\n",
       "      <td>19950</td>\n",
       "      <td>263.0000</td>\n",
       "      <td>C23 C25 C27</td>\n",
       "      <td>Southampton</td>\n",
       "    </tr>\n",
       "    <tr>\n",
       "      <th>118</th>\n",
       "      <td>119</td>\n",
       "      <td>0</td>\n",
       "      <td>1</td>\n",
       "      <td>Baxter, Mr. Quigg Edmond</td>\n",
       "      <td>male</td>\n",
       "      <td>24.000000</td>\n",
       "      <td>0</td>\n",
       "      <td>1</td>\n",
       "      <td>PC 17558</td>\n",
       "      <td>247.5208</td>\n",
       "      <td>B58 B60</td>\n",
       "      <td>Cherbourg</td>\n",
       "    </tr>\n",
       "    <tr>\n",
       "      <th>258</th>\n",
       "      <td>259</td>\n",
       "      <td>1</td>\n",
       "      <td>1</td>\n",
       "      <td>Ward, Miss. Anna</td>\n",
       "      <td>female</td>\n",
       "      <td>35.000000</td>\n",
       "      <td>0</td>\n",
       "      <td>0</td>\n",
       "      <td>PC 17755</td>\n",
       "      <td>512.3292</td>\n",
       "      <td>NaN</td>\n",
       "      <td>Cherbourg</td>\n",
       "    </tr>\n",
       "    <tr>\n",
       "      <th>299</th>\n",
       "      <td>300</td>\n",
       "      <td>1</td>\n",
       "      <td>1</td>\n",
       "      <td>Baxter, Mrs. James (Helene DeLaudeniere Chaput)</td>\n",
       "      <td>female</td>\n",
       "      <td>50.000000</td>\n",
       "      <td>0</td>\n",
       "      <td>1</td>\n",
       "      <td>PC 17558</td>\n",
       "      <td>247.5208</td>\n",
       "      <td>B58 B60</td>\n",
       "      <td>Cherbourg</td>\n",
       "    </tr>\n",
       "    <tr>\n",
       "      <th>311</th>\n",
       "      <td>312</td>\n",
       "      <td>1</td>\n",
       "      <td>1</td>\n",
       "      <td>Ryerson, Miss. Emily Borie</td>\n",
       "      <td>female</td>\n",
       "      <td>18.000000</td>\n",
       "      <td>2</td>\n",
       "      <td>2</td>\n",
       "      <td>PC 17608</td>\n",
       "      <td>262.3750</td>\n",
       "      <td>B57 B59 B63 B66</td>\n",
       "      <td>Cherbourg</td>\n",
       "    </tr>\n",
       "    <tr>\n",
       "      <th>341</th>\n",
       "      <td>342</td>\n",
       "      <td>1</td>\n",
       "      <td>1</td>\n",
       "      <td>Fortune, Miss. Alice Elizabeth</td>\n",
       "      <td>female</td>\n",
       "      <td>24.000000</td>\n",
       "      <td>3</td>\n",
       "      <td>2</td>\n",
       "      <td>19950</td>\n",
       "      <td>263.0000</td>\n",
       "      <td>C23 C25 C27</td>\n",
       "      <td>Southampton</td>\n",
       "    </tr>\n",
       "    <tr>\n",
       "      <th>377</th>\n",
       "      <td>378</td>\n",
       "      <td>0</td>\n",
       "      <td>1</td>\n",
       "      <td>Widener, Mr. Harry Elkins</td>\n",
       "      <td>male</td>\n",
       "      <td>27.000000</td>\n",
       "      <td>0</td>\n",
       "      <td>2</td>\n",
       "      <td>113503</td>\n",
       "      <td>211.5000</td>\n",
       "      <td>C82</td>\n",
       "      <td>Cherbourg</td>\n",
       "    </tr>\n",
       "    <tr>\n",
       "      <th>380</th>\n",
       "      <td>381</td>\n",
       "      <td>1</td>\n",
       "      <td>1</td>\n",
       "      <td>Bidois, Miss. Rosalie</td>\n",
       "      <td>female</td>\n",
       "      <td>42.000000</td>\n",
       "      <td>0</td>\n",
       "      <td>0</td>\n",
       "      <td>PC 17757</td>\n",
       "      <td>227.5250</td>\n",
       "      <td>NaN</td>\n",
       "      <td>Cherbourg</td>\n",
       "    </tr>\n",
       "    <tr>\n",
       "      <th>438</th>\n",
       "      <td>439</td>\n",
       "      <td>0</td>\n",
       "      <td>1</td>\n",
       "      <td>Fortune, Mr. Mark</td>\n",
       "      <td>male</td>\n",
       "      <td>64.000000</td>\n",
       "      <td>1</td>\n",
       "      <td>4</td>\n",
       "      <td>19950</td>\n",
       "      <td>263.0000</td>\n",
       "      <td>C23 C25 C27</td>\n",
       "      <td>Southampton</td>\n",
       "    </tr>\n",
       "    <tr>\n",
       "      <th>527</th>\n",
       "      <td>528</td>\n",
       "      <td>0</td>\n",
       "      <td>1</td>\n",
       "      <td>Farthing, Mr. John</td>\n",
       "      <td>male</td>\n",
       "      <td>29.699118</td>\n",
       "      <td>0</td>\n",
       "      <td>0</td>\n",
       "      <td>PC 17483</td>\n",
       "      <td>221.7792</td>\n",
       "      <td>C95</td>\n",
       "      <td>Southampton</td>\n",
       "    </tr>\n",
       "    <tr>\n",
       "      <th>557</th>\n",
       "      <td>558</td>\n",
       "      <td>0</td>\n",
       "      <td>1</td>\n",
       "      <td>Robbins, Mr. Victor</td>\n",
       "      <td>male</td>\n",
       "      <td>29.699118</td>\n",
       "      <td>0</td>\n",
       "      <td>0</td>\n",
       "      <td>PC 17757</td>\n",
       "      <td>227.5250</td>\n",
       "      <td>NaN</td>\n",
       "      <td>Cherbourg</td>\n",
       "    </tr>\n",
       "    <tr>\n",
       "      <th>679</th>\n",
       "      <td>680</td>\n",
       "      <td>1</td>\n",
       "      <td>1</td>\n",
       "      <td>Cardeza, Mr. Thomas Drake Martinez</td>\n",
       "      <td>male</td>\n",
       "      <td>36.000000</td>\n",
       "      <td>0</td>\n",
       "      <td>1</td>\n",
       "      <td>PC 17755</td>\n",
       "      <td>512.3292</td>\n",
       "      <td>B51 B53 B55</td>\n",
       "      <td>Cherbourg</td>\n",
       "    </tr>\n",
       "    <tr>\n",
       "      <th>689</th>\n",
       "      <td>690</td>\n",
       "      <td>1</td>\n",
       "      <td>1</td>\n",
       "      <td>Madill, Miss. Georgette Alexandra</td>\n",
       "      <td>female</td>\n",
       "      <td>15.000000</td>\n",
       "      <td>0</td>\n",
       "      <td>1</td>\n",
       "      <td>24160</td>\n",
       "      <td>211.3375</td>\n",
       "      <td>B5</td>\n",
       "      <td>Southampton</td>\n",
       "    </tr>\n",
       "    <tr>\n",
       "      <th>700</th>\n",
       "      <td>701</td>\n",
       "      <td>1</td>\n",
       "      <td>1</td>\n",
       "      <td>Astor, Mrs. John Jacob (Madeleine Talmadge Force)</td>\n",
       "      <td>female</td>\n",
       "      <td>18.000000</td>\n",
       "      <td>1</td>\n",
       "      <td>0</td>\n",
       "      <td>PC 17757</td>\n",
       "      <td>227.5250</td>\n",
       "      <td>C62 C64</td>\n",
       "      <td>Cherbourg</td>\n",
       "    </tr>\n",
       "    <tr>\n",
       "      <th>716</th>\n",
       "      <td>717</td>\n",
       "      <td>1</td>\n",
       "      <td>1</td>\n",
       "      <td>Endres, Miss. Caroline Louise</td>\n",
       "      <td>female</td>\n",
       "      <td>38.000000</td>\n",
       "      <td>0</td>\n",
       "      <td>0</td>\n",
       "      <td>PC 17757</td>\n",
       "      <td>227.5250</td>\n",
       "      <td>C45</td>\n",
       "      <td>Cherbourg</td>\n",
       "    </tr>\n",
       "    <tr>\n",
       "      <th>730</th>\n",
       "      <td>731</td>\n",
       "      <td>1</td>\n",
       "      <td>1</td>\n",
       "      <td>Allen, Miss. Elisabeth Walton</td>\n",
       "      <td>female</td>\n",
       "      <td>29.000000</td>\n",
       "      <td>0</td>\n",
       "      <td>0</td>\n",
       "      <td>24160</td>\n",
       "      <td>211.3375</td>\n",
       "      <td>B5</td>\n",
       "      <td>Southampton</td>\n",
       "    </tr>\n",
       "    <tr>\n",
       "      <th>737</th>\n",
       "      <td>738</td>\n",
       "      <td>1</td>\n",
       "      <td>1</td>\n",
       "      <td>Lesurer, Mr. Gustave J</td>\n",
       "      <td>male</td>\n",
       "      <td>35.000000</td>\n",
       "      <td>0</td>\n",
       "      <td>0</td>\n",
       "      <td>PC 17755</td>\n",
       "      <td>512.3292</td>\n",
       "      <td>B101</td>\n",
       "      <td>Cherbourg</td>\n",
       "    </tr>\n",
       "    <tr>\n",
       "      <th>742</th>\n",
       "      <td>743</td>\n",
       "      <td>1</td>\n",
       "      <td>1</td>\n",
       "      <td>Ryerson, Miss. Susan Parker \"Suzette\"</td>\n",
       "      <td>female</td>\n",
       "      <td>21.000000</td>\n",
       "      <td>2</td>\n",
       "      <td>2</td>\n",
       "      <td>PC 17608</td>\n",
       "      <td>262.3750</td>\n",
       "      <td>B57 B59 B63 B66</td>\n",
       "      <td>Cherbourg</td>\n",
       "    </tr>\n",
       "    <tr>\n",
       "      <th>779</th>\n",
       "      <td>780</td>\n",
       "      <td>1</td>\n",
       "      <td>1</td>\n",
       "      <td>Robert, Mrs. Edward Scott (Elisabeth Walton Mc...</td>\n",
       "      <td>female</td>\n",
       "      <td>43.000000</td>\n",
       "      <td>0</td>\n",
       "      <td>1</td>\n",
       "      <td>24160</td>\n",
       "      <td>211.3375</td>\n",
       "      <td>B3</td>\n",
       "      <td>Southampton</td>\n",
       "    </tr>\n",
       "  </tbody>\n",
       "</table>\n",
       "</div>"
      ],
      "text/plain": [
       "     PassengerId  Survived  Pclass  \\\n",
       "27            28         0       1   \n",
       "88            89         1       1   \n",
       "118          119         0       1   \n",
       "258          259         1       1   \n",
       "299          300         1       1   \n",
       "311          312         1       1   \n",
       "341          342         1       1   \n",
       "377          378         0       1   \n",
       "380          381         1       1   \n",
       "438          439         0       1   \n",
       "527          528         0       1   \n",
       "557          558         0       1   \n",
       "679          680         1       1   \n",
       "689          690         1       1   \n",
       "700          701         1       1   \n",
       "716          717         1       1   \n",
       "730          731         1       1   \n",
       "737          738         1       1   \n",
       "742          743         1       1   \n",
       "779          780         1       1   \n",
       "\n",
       "                                                  Name     Sex        Age  \\\n",
       "27                      Fortune, Mr. Charles Alexander    male  19.000000   \n",
       "88                          Fortune, Miss. Mabel Helen  female  23.000000   \n",
       "118                           Baxter, Mr. Quigg Edmond    male  24.000000   \n",
       "258                                   Ward, Miss. Anna  female  35.000000   \n",
       "299    Baxter, Mrs. James (Helene DeLaudeniere Chaput)  female  50.000000   \n",
       "311                         Ryerson, Miss. Emily Borie  female  18.000000   \n",
       "341                     Fortune, Miss. Alice Elizabeth  female  24.000000   \n",
       "377                          Widener, Mr. Harry Elkins    male  27.000000   \n",
       "380                              Bidois, Miss. Rosalie  female  42.000000   \n",
       "438                                  Fortune, Mr. Mark    male  64.000000   \n",
       "527                                 Farthing, Mr. John    male  29.699118   \n",
       "557                                Robbins, Mr. Victor    male  29.699118   \n",
       "679                 Cardeza, Mr. Thomas Drake Martinez    male  36.000000   \n",
       "689                  Madill, Miss. Georgette Alexandra  female  15.000000   \n",
       "700  Astor, Mrs. John Jacob (Madeleine Talmadge Force)  female  18.000000   \n",
       "716                      Endres, Miss. Caroline Louise  female  38.000000   \n",
       "730                      Allen, Miss. Elisabeth Walton  female  29.000000   \n",
       "737                             Lesurer, Mr. Gustave J    male  35.000000   \n",
       "742              Ryerson, Miss. Susan Parker \"Suzette\"  female  21.000000   \n",
       "779  Robert, Mrs. Edward Scott (Elisabeth Walton Mc...  female  43.000000   \n",
       "\n",
       "     SibSp  Parch    Ticket      Fare            Cabin     Embarked  \n",
       "27       3      2     19950  263.0000      C23 C25 C27  Southampton  \n",
       "88       3      2     19950  263.0000      C23 C25 C27  Southampton  \n",
       "118      0      1  PC 17558  247.5208          B58 B60    Cherbourg  \n",
       "258      0      0  PC 17755  512.3292              NaN    Cherbourg  \n",
       "299      0      1  PC 17558  247.5208          B58 B60    Cherbourg  \n",
       "311      2      2  PC 17608  262.3750  B57 B59 B63 B66    Cherbourg  \n",
       "341      3      2     19950  263.0000      C23 C25 C27  Southampton  \n",
       "377      0      2    113503  211.5000              C82    Cherbourg  \n",
       "380      0      0  PC 17757  227.5250              NaN    Cherbourg  \n",
       "438      1      4     19950  263.0000      C23 C25 C27  Southampton  \n",
       "527      0      0  PC 17483  221.7792              C95  Southampton  \n",
       "557      0      0  PC 17757  227.5250              NaN    Cherbourg  \n",
       "679      0      1  PC 17755  512.3292      B51 B53 B55    Cherbourg  \n",
       "689      0      1     24160  211.3375               B5  Southampton  \n",
       "700      1      0  PC 17757  227.5250          C62 C64    Cherbourg  \n",
       "716      0      0  PC 17757  227.5250              C45    Cherbourg  \n",
       "730      0      0     24160  211.3375               B5  Southampton  \n",
       "737      0      0  PC 17755  512.3292             B101    Cherbourg  \n",
       "742      2      2  PC 17608  262.3750  B57 B59 B63 B66    Cherbourg  \n",
       "779      0      1     24160  211.3375               B3  Southampton  "
      ]
     },
     "execution_count": 14,
     "metadata": {},
     "output_type": "execute_result"
    }
   ],
   "source": [
    "titanic_df[(titanic_df['Fare']>fare_outlier_max_c[1]) & (titanic_df['Pclass']==1)]"
   ]
  },
  {
   "cell_type": "markdown",
   "metadata": {},
   "source": [
    "Thus, I have to delete these data."
   ]
  },
  {
   "cell_type": "code",
   "execution_count": 15,
   "metadata": {
    "collapsed": true
   },
   "outputs": [],
   "source": [
    "titanic_df_no_outlier = titanic_df[~((titanic_df['Age']>age_outlier_max_c[1]) & (titanic_df['Age']==1))]\n",
    "titanic_df_no_outlier = titanic_df[~((titanic_df['Fare']>fare_outlier_max_c[1]) & (titanic_df['Pclass']==1))]"
   ]
  },
  {
   "cell_type": "code",
   "execution_count": 16,
   "metadata": {},
   "outputs": [
    {
     "name": "stdout",
     "output_type": "stream",
     "text": [
      "       PassengerId    Survived      Pclass         Age       SibSp  \\\n",
      "count   891.000000  891.000000  891.000000  891.000000  891.000000   \n",
      "mean    446.000000    0.383838    2.308642   29.699118    0.523008   \n",
      "std     257.353842    0.486592    0.836071   13.002015    1.102743   \n",
      "min       1.000000    0.000000    1.000000    0.420000    0.000000   \n",
      "25%     223.500000    0.000000    2.000000   22.000000    0.000000   \n",
      "50%     446.000000    0.000000    3.000000   29.699118    0.000000   \n",
      "75%     668.500000    1.000000    3.000000   35.000000    1.000000   \n",
      "max     891.000000    1.000000    3.000000   80.000000    8.000000   \n",
      "\n",
      "            Parch        Fare  \n",
      "count  891.000000  891.000000  \n",
      "mean     0.381594   32.204208  \n",
      "std      0.806057   49.693429  \n",
      "min      0.000000    0.000000  \n",
      "25%      0.000000    7.910400  \n",
      "50%      0.000000   14.454200  \n",
      "75%      0.000000   31.000000  \n",
      "max      6.000000  512.329200  \n",
      "       PassengerId    Survived      Pclass         Age       SibSp  \\\n",
      "count   871.000000  871.000000  871.000000  871.000000  871.000000   \n",
      "mean    445.319173    0.376579    2.338691   29.668789    0.517796   \n",
      "std     257.761917    0.484806    0.821469   13.024141    1.101448   \n",
      "min       1.000000    0.000000    1.000000    0.420000    0.000000   \n",
      "25%     221.500000    0.000000    2.000000   22.000000    0.000000   \n",
      "50%     446.000000    0.000000    3.000000   29.699118    0.000000   \n",
      "75%     665.500000    1.000000    3.000000   35.000000    1.000000   \n",
      "max     891.000000    1.000000    3.000000   80.000000    8.000000   \n",
      "\n",
      "            Parch        Fare  \n",
      "count  871.000000  871.000000  \n",
      "mean     0.366246   26.530170  \n",
      "std      0.792325   29.351184  \n",
      "min      0.000000    0.000000  \n",
      "25%      0.000000    7.895800  \n",
      "50%      0.000000   13.862500  \n",
      "75%      0.000000   30.000000  \n",
      "max      6.000000  164.866700  \n"
     ]
    }
   ],
   "source": [
    "#Comparison on data before and after outlier removal\n",
    "print(titanic_df.describe())\n",
    "print(titanic_df_no_outlier.describe())"
   ]
  },
  {
   "cell_type": "code",
   "execution_count": 17,
   "metadata": {},
   "outputs": [
    {
     "name": "stdout",
     "output_type": "stream",
     "text": [
      "         Sex     Embarked\n",
      "count    891          891\n",
      "unique     2            3\n",
      "top     male  Southampton\n",
      "freq     577          646\n",
      "         Sex     Embarked\n",
      "count    871          871\n",
      "unique     2            3\n",
      "top     male  Southampton\n",
      "freq     569          638\n"
     ]
    }
   ],
   "source": [
    "#Comparison on data before and after outlier removal\n",
    "print(titanic_df[['Sex','Embarked']].describe())\n",
    "print(titanic_df_no_outlier[['Sex','Embarked']].describe())"
   ]
  },
  {
   "cell_type": "markdown",
   "metadata": {},
   "source": [
    "As an example visualisation of data difference, Pclass comparsion figure provided as follows."
   ]
  },
  {
   "cell_type": "code",
   "execution_count": 25,
   "metadata": {},
   "outputs": [
    {
     "data": {
      "text/plain": [
       "<matplotlib.legend.Legend at 0x114710f98>"
      ]
     },
     "execution_count": 25,
     "metadata": {},
     "output_type": "execute_result"
    },
    {
     "data": {
      "image/png": "[encoded data removed]",
      "text/plain": [
       "<matplotlib.figure.Figure at 0x113b7e4e0>"
      ]
     },
     "metadata": {},
     "output_type": "display_data"
    }
   ],
   "source": [
    "com1 = titanic_df_no_outlier['Pclass'].copy().to_frame()\n",
    "com2 = titanic_df['Pclass'].copy().to_frame()\n",
    "\n",
    "\n",
    "com1['Key'] = \"No Outlier\"\n",
    "com2['Key'] = \"All\"\n",
    "\n",
    "labels = ['1', '2', '3']\n",
    "\n",
    "\n",
    "DF = pd.concat([com1,com2])\n",
    "DF_group_by = DF.groupby(\"Pclass\").Key.value_counts()\n",
    "outlier_comparison_plot = DF_group_by.plot(kind='bar', y='Occurences', title=\"Comparison of Pclass Before and After Outlier Removal\")\n",
    "outlier_comparison_plot.set_xticklabels( ('1', '1','2', '2', '3', '3') )\n",
    "outlier_comparison_plot.set_xlabel('Class')\n",
    "outlier_comparison_plot.set_ylabel('Number of Passengers')\n",
    "outlier_comparison_plot.get_children()[0].set_color('r')\n",
    "outlier_comparison_plot.get_children()[2].set_color('r')\n",
    "outlier_comparison_plot.get_children()[4].set_color('r')\n",
    "outlier_comparison_plot.get_children()[1].set_color('b')\n",
    "outlier_comparison_plot.get_children()[3].set_color('b')\n",
    "outlier_comparison_plot.get_children()[5].set_color('b')\n",
    "\n",
    "before = mpatches.Patch(color='r', label='Before Outlier Removal')\n",
    "after = mpatches.Patch(color='b', label='After Outlier Removal')\n",
    "\n",
    "outlier_comparison_plot.legend(handles=[before, after], loc=2)"
   ]
  },
  {
   "cell_type": "markdown",
   "metadata": {},
   "source": [
    "As seen before, there is no significant changes after the data cleaning, but mean and std at Fare column seems changed a bit."
   ]
  },
  {
   "cell_type": "markdown",
   "metadata": {},
   "source": [
    "## Data Analysis"
   ]
  },
  {
   "cell_type": "markdown",
   "metadata": {},
   "source": [
    "### 1. What are likely the factors of the survived passengers? (What age or sex? What class? Family brought?)"
   ]
  },
  {
   "cell_type": "code",
   "execution_count": 19,
   "metadata": {
    "collapsed": true
   },
   "outputs": [],
   "source": [
    "#Find standard form of all column\n",
    "a = (titanic_df_no_outlier[['PassengerId','Survived','Pclass','Age','SibSp','Parch','Fare']]-titanic_df_no_outlier.mean())/titanic_df_no_outlier.std()\n",
    "#Add Family brought columns\n",
    "a['Family'] = a['SibSp'] + a['Parch']"
   ]
  },
  {
   "cell_type": "code",
   "execution_count": 20,
   "metadata": {},
   "outputs": [
    {
     "data": {
      "text/html": [
       "<div>\n",
       "<style>\n",
       "    .dataframe thead tr:only-child th {\n",
       "        text-align: right;\n",
       "    }\n",
       "\n",
       "    .dataframe thead th {\n",
       "        text-align: left;\n",
       "    }\n",
       "\n",
       "    .dataframe tbody tr th {\n",
       "        vertical-align: top;\n",
       "    }\n",
       "</style>\n",
       "<table border=\"1\" class=\"dataframe\">\n",
       "  <thead>\n",
       "    <tr style=\"text-align: right;\">\n",
       "      <th></th>\n",
       "      <th>PassengerId</th>\n",
       "      <th>Survived</th>\n",
       "      <th>Pclass</th>\n",
       "      <th>Age</th>\n",
       "      <th>SibSp</th>\n",
       "      <th>Parch</th>\n",
       "      <th>Fare</th>\n",
       "      <th>Family</th>\n",
       "    </tr>\n",
       "  </thead>\n",
       "  <tbody>\n",
       "    <tr>\n",
       "      <th>PassengerId</th>\n",
       "      <td>1.000000</td>\n",
       "      <td>-0.014291</td>\n",
       "      <td>-0.032224</td>\n",
       "      <td>0.031648</td>\n",
       "      <td>-0.049230</td>\n",
       "      <td>0.006580</td>\n",
       "      <td>-0.003510</td>\n",
       "      <td>-0.025403</td>\n",
       "    </tr>\n",
       "    <tr>\n",
       "      <th>Survived</th>\n",
       "      <td>-0.014291</td>\n",
       "      <td>1.000000</td>\n",
       "      <td>-0.329285</td>\n",
       "      <td>-0.071785</td>\n",
       "      <td>-0.040547</td>\n",
       "      <td>0.080408</td>\n",
       "      <td>0.298671</td>\n",
       "      <td>0.023742</td>\n",
       "    </tr>\n",
       "    <tr>\n",
       "      <th>Pclass</th>\n",
       "      <td>-0.032224</td>\n",
       "      <td>-0.329285</td>\n",
       "      <td>1.000000</td>\n",
       "      <td>-0.340596</td>\n",
       "      <td>0.094324</td>\n",
       "      <td>0.051138</td>\n",
       "      <td>-0.653248</td>\n",
       "      <td>0.086641</td>\n",
       "    </tr>\n",
       "    <tr>\n",
       "      <th>Age</th>\n",
       "      <td>0.031648</td>\n",
       "      <td>-0.071785</td>\n",
       "      <td>-0.340596</td>\n",
       "      <td>1.000000</td>\n",
       "      <td>-0.229742</td>\n",
       "      <td>-0.192257</td>\n",
       "      <td>0.127715</td>\n",
       "      <td>-0.251352</td>\n",
       "    </tr>\n",
       "    <tr>\n",
       "      <th>SibSp</th>\n",
       "      <td>-0.049230</td>\n",
       "      <td>-0.040547</td>\n",
       "      <td>0.094324</td>\n",
       "      <td>-0.229742</td>\n",
       "      <td>1.000000</td>\n",
       "      <td>0.409380</td>\n",
       "      <td>0.246085</td>\n",
       "      <td>0.839458</td>\n",
       "    </tr>\n",
       "    <tr>\n",
       "      <th>Parch</th>\n",
       "      <td>0.006580</td>\n",
       "      <td>0.080408</td>\n",
       "      <td>0.051138</td>\n",
       "      <td>-0.192257</td>\n",
       "      <td>0.409380</td>\n",
       "      <td>1.000000</td>\n",
       "      <td>0.230427</td>\n",
       "      <td>0.839458</td>\n",
       "    </tr>\n",
       "    <tr>\n",
       "      <th>Fare</th>\n",
       "      <td>-0.003510</td>\n",
       "      <td>0.298671</td>\n",
       "      <td>-0.653248</td>\n",
       "      <td>0.127715</td>\n",
       "      <td>0.246085</td>\n",
       "      <td>0.230427</td>\n",
       "      <td>1.000000</td>\n",
       "      <td>0.283821</td>\n",
       "    </tr>\n",
       "    <tr>\n",
       "      <th>Family</th>\n",
       "      <td>-0.025403</td>\n",
       "      <td>0.023742</td>\n",
       "      <td>0.086641</td>\n",
       "      <td>-0.251352</td>\n",
       "      <td>0.839458</td>\n",
       "      <td>0.839458</td>\n",
       "      <td>0.283821</td>\n",
       "      <td>1.000000</td>\n",
       "    </tr>\n",
       "  </tbody>\n",
       "</table>\n",
       "</div>"
      ],
      "text/plain": [
       "             PassengerId  Survived    Pclass       Age     SibSp     Parch  \\\n",
       "PassengerId     1.000000 -0.014291 -0.032224  0.031648 -0.049230  0.006580   \n",
       "Survived       -0.014291  1.000000 -0.329285 -0.071785 -0.040547  0.080408   \n",
       "Pclass         -0.032224 -0.329285  1.000000 -0.340596  0.094324  0.051138   \n",
       "Age             0.031648 -0.071785 -0.340596  1.000000 -0.229742 -0.192257   \n",
       "SibSp          -0.049230 -0.040547  0.094324 -0.229742  1.000000  0.409380   \n",
       "Parch           0.006580  0.080408  0.051138 -0.192257  0.409380  1.000000   \n",
       "Fare           -0.003510  0.298671 -0.653248  0.127715  0.246085  0.230427   \n",
       "Family         -0.025403  0.023742  0.086641 -0.251352  0.839458  0.839458   \n",
       "\n",
       "                 Fare    Family  \n",
       "PassengerId -0.003510 -0.025403  \n",
       "Survived     0.298671  0.023742  \n",
       "Pclass      -0.653248  0.086641  \n",
       "Age          0.127715 -0.251352  \n",
       "SibSp        0.246085  0.839458  \n",
       "Parch        0.230427  0.839458  \n",
       "Fare         1.000000  0.283821  \n",
       "Family       0.283821  1.000000  "
      ]
     },
     "execution_count": 20,
     "metadata": {},
     "output_type": "execute_result"
    }
   ],
   "source": [
    "a.corr()"
   ]
  },
  {
   "cell_type": "code",
   "execution_count": 21,
   "metadata": {},
   "outputs": [
    {
     "data": {
      "text/plain": [
       "Pclass\n",
       "1    62.244898\n",
       "2    47.282609\n",
       "3    24.236253\n",
       "Name: Survived, dtype: float64"
      ]
     },
     "execution_count": 21,
     "metadata": {},
     "output_type": "execute_result"
    }
   ],
   "source": [
    "#Percentage of survival per class(fixed this, nice techniques bro :D)\n",
    "titanic_df_no_outlier.groupby(['Pclass'])['Survived'].mean()*100\n",
    "# (titanic_df_no_outlier.loc[titanic_df_no_outlier['Survived']==1].groupby('Pclass').sum()['Survived']/titanic_df_no_outlier.groupby('Pclass').count()['PassengerId'])*100"
   ]
  },
  {
   "cell_type": "code",
   "execution_count": 22,
   "metadata": {},
   "outputs": [
    {
     "data": {
      "text/plain": [
       "Sex\n",
       "female    73.178808\n",
       "male      18.804921\n",
       "Name: Survived, dtype: float64"
      ]
     },
     "execution_count": 22,
     "metadata": {},
     "output_type": "execute_result"
    }
   ],
   "source": [
    "#Percentage of survival per sex(fixed this, nice techniques bro :D)\n",
    "titanic_df_no_outlier.groupby(['Sex'])['Survived'].mean()*100\n",
    "# (titanic_df_no_outlier.loc[titanic_df_no_outlier['Survived']==1].groupby('Sex').sum()['Survived']/titanic_df_no_outlier.groupby('Sex').count()['PassengerId'])*100"
   ]
  },
  {
   "cell_type": "markdown",
   "metadata": {},
   "source": [
    "Based on the table above, it seems there is no strong correlation between Survived column and the other column. As seen [here](http://www.dummies.com/education/math/statistics/how-to-interpret-a-correlation-coefficient-r/), Pclass have medium positive correlation with Survived (the table shows \"-\", but the class meaning is inverted, e.g. class 3 as the bottom level, 1 as the top level). In addition, Fare also shows weak positive correlation with the Survived. This is make sense since Fare and Pclass almost have strong positive correlation. Unfortunately, number of family brought seems does not have correlation with the data."
   ]
  },
  {
   "cell_type": "markdown",
   "metadata": {},
   "source": [
    "### 2. What is the weathiest area at the time? (class by embarked)"
   ]
  },
  {
   "cell_type": "code",
   "execution_count": 23,
   "metadata": {},
   "outputs": [
    {
     "data": {
      "text/plain": [
       "<matplotlib.text.Text at 0x1147e8ef0>"
      ]
     },
     "execution_count": 23,
     "metadata": {},
     "output_type": "execute_result"
    },
    {
     "data": {
      "image/png": "[encoded data removed]",
      "text/plain": [
       "<matplotlib.figure.Figure at 0x1137c1a20>"
      ]
     },
     "metadata": {},
     "output_type": "display_data"
    }
   ],
   "source": [
    "f_plot1 = titanic_df_no_outlier.loc[titanic_df_no_outlier['Pclass']==1].groupby('Embarked').count()['PassengerId'].plot(kind='pie',  autopct='%1.0f%%', pctdistance=1.1, labeldistance=1.2, title='First Class Passengers Comparison based on Area')\n",
    "f_plot1.set_ylabel('')"
   ]
  },
  {
   "cell_type": "markdown",
   "metadata": {},
   "source": [
    "Assumed wealthiness is measured by the number of first class passenger. Southampton had the largest proportion of wealthy passenger."
   ]
  },
  {
   "cell_type": "markdown",
   "metadata": {},
   "source": [
    "### 3. How old are typically people that afford a first class at the time? (Age by class)"
   ]
  },
  {
   "cell_type": "code",
   "execution_count": 26,
   "metadata": {},
   "outputs": [
    {
     "name": "stdout",
     "output_type": "stream",
     "text": [
      "count    196.000000\n",
      "mean      37.663241\n",
      "std       14.101151\n",
      "min        0.920000\n",
      "25%       29.699118\n",
      "50%       35.500000\n",
      "75%       48.000000\n",
      "max       80.000000\n",
      "Name: Age, dtype: float64\n"
     ]
    },
    {
     "data": {
      "text/plain": [
       "<matplotlib.text.Text at 0x114b906a0>"
      ]
     },
     "execution_count": 26,
     "metadata": {},
     "output_type": "execute_result"
    },
    {
     "data": {
      "image/png": "[encoded data removed]",
      "text/plain": [
       "<matplotlib.figure.Figure at 0x1148116a0>"
      ]
     },
     "metadata": {},
     "output_type": "display_data"
    }
   ],
   "source": [
    "print(titanic_df_no_outlier.loc[titanic_df_no_outlier['Pclass']==1]['Age'].describe())\n",
    "hist_3 = titanic_df_no_outlier.loc[titanic_df_no_outlier['Pclass']==1]['Age'].hist()\n",
    "hist_3.set_ylabel('Occurences')\n",
    "hist_3.set_xlabel('Age')\n",
    "hist_3.set_title('First Class Age Distribution')\n"
   ]
  },
  {
   "cell_type": "markdown",
   "metadata": {
    "collapsed": true
   },
   "source": [
    "Based on the data above the mean is 38 and based on the histogram the range is around 34-41 is the highest occurences. In the other hand, 0-10 and 70-80 are the lowest occurences. \n",
    "\n",
    "### Conclusion\n",
    "\n",
    "Based on the answers above the first class tend to be mostly survived may be because they were proritised to be in the life boat, as well as the female passenger. **However, further research can enhance this finding as the connection only determined by correlation, that not imply causation.** Furthermore, it can be assumed that Southampton was the weathiest area at the time. And, it can be roughly assumed that since the data is normally distributed, that is 68% of the first class passenger were Gen Y and Gen X at the time.\n",
    "\n",
    "Furthermore, it seems the data is only a sample of 2229 on board (https://www.historyonthenet.com/the-titanic-passenger-and-crew-statistics/). In detail, there is no documentation of how the data being sampled, thus it is very limited to know the accurracy of this analysis. Thus, in this case, it will be a good practice if all data can be collected, as the population is not too much. \n",
    "\n",
    "For further analysis in the future, more questions can be asked such as survival chance of a given famiily brought. Furthermore, this analysis can be done with any different techniques such as missing values treatment; thus, we can compare the difference between each methods, find out why, and which one best for this case.\n",
    "\n",
    "\n",
    "\n"
   ]
  },
  {
   "cell_type": "code",
   "execution_count": null,
   "metadata": {
    "collapsed": true
   },
   "outputs": [],
   "source": []
  }
 ],
 "metadata": {
  "kernelspec": {
   "display_name": "Python 3",
   "language": "python",
   "name": "python3"
  },
  "language_info": {
   "codemirror_mode": {
    "name": "ipython",
    "version": 3
   },
   "file_extension": ".py",
   "mimetype": "text/x-python",
   "name": "python",
   "nbconvert_exporter": "python",
   "pygments_lexer": "ipython3",
   "version": "3.6.1"
  }
 },
 "nbformat": 4,
 "nbformat_minor": 2
}
